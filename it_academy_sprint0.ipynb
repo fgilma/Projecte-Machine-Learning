{
 "cells": [
  {
   "cell_type": "code",
   "execution_count": 15,
   "id": "f04d7b54-bc5e-4dbb-80a1-6999a8cfab2a",
   "metadata": {},
   "outputs": [],
   "source": [
    "#Llibreries per Machine Learning\n",
    "import numpy\n",
    "import pandas\n",
    "import sklearn\n",
    "import matplotlib.pyplot as plt\n",
    "import seaborn\n",
    "import streamlit"
   ]
  },
  {
   "cell_type": "markdown",
   "id": "0f79d462-8914-495b-980c-ac3e7e4d79a5",
   "metadata": {},
   "source": [
    "## Exercici 3\n",
    "Utilitzant Jupyter Notebook executa alguns càlculs senzills, a la vegada que et familiaritzes amb el llenguatge Markdown."
   ]
  },
  {
   "cell_type": "markdown",
   "id": "3714ad87-e8e9-4e4c-ac8e-43735e05b4ae",
   "metadata": {},
   "source": [
    "**1. Calcular l'àrea d'un triangle amb base 3 cm i alçada 4 cm**"
   ]
  },
  {
   "cell_type": "code",
   "execution_count": 6,
   "id": "7bc62eea-2cc6-417b-bbf9-90ec614aea7c",
   "metadata": {},
   "outputs": [
    {
     "name": "stdout",
     "output_type": "stream",
     "text": [
      "L'àrea del triangle amb base 3 i alçada 4 és 6 cm.\n"
     ]
    }
   ],
   "source": [
    "a = 3\n",
    "b = 4\n",
    "print(f'L\\'àrea del triangle amb base {a} i alçada {b} és {a*b//2} cm.')"
   ]
  },
  {
   "cell_type": "markdown",
   "id": "e315fa6d-4719-4c4f-8e5a-eee6449ea79c",
   "metadata": {},
   "source": [
    "**2. Calcular el logaritme en base 10 de 1000**"
   ]
  },
  {
   "cell_type": "code",
   "execution_count": 8,
   "id": "0337291e-9388-46d2-a761-9f12183008a4",
   "metadata": {},
   "outputs": [],
   "source": [
    "from math import log"
   ]
  },
  {
   "cell_type": "code",
   "execution_count": 11,
   "id": "9a720449-2c33-4cd7-a4c0-acb4796bc62f",
   "metadata": {},
   "outputs": [
    {
     "name": "stdout",
     "output_type": "stream",
     "text": [
      "El logaritme en base 10 de 1000 és 3\n"
     ]
    }
   ],
   "source": [
    "print(f'El logaritme en base 10 de 1000 és {round(log(1000, 10))}')"
   ]
  },
  {
   "cell_type": "markdown",
   "id": "c69bbf6c-c657-46df-986e-75d74ce3e72b",
   "metadata": {},
   "source": [
    "**3.Calcular l'arrel quadrada de 625**"
   ]
  },
  {
   "cell_type": "code",
   "execution_count": 12,
   "id": "5068d354-c531-466e-b3c8-62e95d1d0f27",
   "metadata": {},
   "outputs": [],
   "source": [
    "from math import sqrt"
   ]
  },
  {
   "cell_type": "code",
   "execution_count": 14,
   "id": "4e5c9898-9afd-465e-bfc1-41bc3581b312",
   "metadata": {},
   "outputs": [
    {
     "name": "stdout",
     "output_type": "stream",
     "text": [
      "L'arrel quadrada de 625 és 25\n"
     ]
    }
   ],
   "source": [
    "a = 625\n",
    "print(f'L\\'arrel quadrada de {a} és {round(sqrt(a))}')"
   ]
  },
  {
   "cell_type": "markdown",
   "id": "5f67726f-4117-4c83-9fdb-371ff99b87c8",
   "metadata": {},
   "source": [
    "## Exercici 4\n",
    "Prova de crear títols, llistes, canviar l’estil de la lletra o afegir imatges dins del Notebook."
   ]
  },
  {
   "cell_type": "markdown",
   "id": "f25d45fc-368d-4669-8421-b89003b427d9",
   "metadata": {},
   "source": [
    "# L\\'illa del tresor (h1 heading)\n",
    "### Robert L. Stevenson (h3 heading)\n",
    "###### Considerada una de les novel·les d\\'aventures més importants.... (h6 heading)"
   ]
  },
  {
   "cell_type": "markdown",
   "id": "0885d2dc-2563-42aa-9272-2a7687063f84",
   "metadata": {},
   "source": [
    "__El texte és en negreta si posem 2 guions baixos al començament i final de la frase__\n",
    "\n",
    "_El texte és en cursiva si només posem 1 guió a l\\'inici i al final_"
   ]
  },
  {
   "cell_type": "markdown",
   "id": "ef7c0521-0724-43fd-9f00-aa29fa13084f",
   "metadata": {},
   "source": [
    "## Llista desordenada:\n",
    "- Dilluns\n",
    "- Dimarts\n",
    "- Dimecres\n",
    "- ..."
   ]
  },
  {
   "cell_type": "markdown",
   "id": "6309af83-25f3-4a8f-8a19-e955d81b6429",
   "metadata": {},
   "source": [
    "## Llista ordenada:\n",
    "1. Gener\n",
    "2. Febrer\n",
    "3. Març\n",
    "4. ..."
   ]
  },
  {
   "cell_type": "markdown",
   "id": "6ab5f15b-46a8-4318-80c7-f4fa6f567c26",
   "metadata": {},
   "source": [
    "## Taula:\n",
    "| Classificació               | Equip                            | Punts                   |\n",
    "|-------------------------|----------------------------------------|-----------------------------------|\n",
    "| 1            | FC Barcelona     | 15                   |\n",
    "| 2      | Real Madrid | 11              |\n",
    "| 3           | Atletico de Madrid                | 10                   |\n",
    "| 4          | Celta               | 10               |\n"
   ]
  },
  {
   "cell_type": "markdown",
   "id": "a388702b-aa11-4d55-857f-25ddbdec6aa8",
   "metadata": {},
   "source": [
    "## Afegir una imatge\n",
    "![Gos amb ulleres](https://mott.pe/noticias/wp-content/uploads/2016/02/perro-playa-cuidados.jpg)\n"
   ]
  },
  {
   "cell_type": "code",
   "execution_count": null,
   "id": "e569c238-493d-4145-84cc-57dc1f02f0dc",
   "metadata": {},
   "outputs": [],
   "source": []
  }
 ],
 "metadata": {
  "kernelspec": {
   "display_name": "Python 3 (ipykernel)",
   "language": "python",
   "name": "python3"
  },
  "language_info": {
   "codemirror_mode": {
    "name": "ipython",
    "version": 3
   },
   "file_extension": ".py",
   "mimetype": "text/x-python",
   "name": "python",
   "nbconvert_exporter": "python",
   "pygments_lexer": "ipython3",
   "version": "3.10.14"
  }
 },
 "nbformat": 4,
 "nbformat_minor": 5
}
