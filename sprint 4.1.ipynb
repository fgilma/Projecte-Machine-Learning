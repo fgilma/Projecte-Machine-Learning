{
 "cells": [
  {
   "cell_type": "markdown",
   "id": "6efb8524-31e1-473c-80c8-7da85dda4546",
   "metadata": {},
   "source": [
    "## Us de l'API de Marvel\n",
    "Per exemple obtenir informació d'IronMan (nom, descripció i imatge)"
   ]
  },
  {
   "cell_type": "code",
   "execution_count": 75,
   "id": "64d71925-cee9-476d-98f3-110c0d4e5307",
   "metadata": {},
   "outputs": [],
   "source": [
    "import requests\n",
    "import hashlib\n",
    "import time\n",
    "from IPython.display import Image, display\n",
    "from bs4 import BeautifulSoup"
   ]
  },
  {
   "cell_type": "code",
   "execution_count": 3,
   "id": "3d6b404b-5f51-42d7-ad0f-70178a071aa9",
   "metadata": {},
   "outputs": [],
   "source": [
    "#Claves privadas de Marvel API\n",
    "public_key = 'b133c6c9302a0c0050ef5b8d743aca1a'\n",
    "private_key = '8df4c1c43d8c7003b1e0a5b3d7dc33753fd9e641'"
   ]
  },
  {
   "cell_type": "code",
   "execution_count": 5,
   "id": "2cfbc052-49bf-496a-b30e-e2c55914f1ce",
   "metadata": {},
   "outputs": [],
   "source": [
    "#Necesitamos un timestamp y el hash para hacer la request\n",
    "timestamp = str(time.time())\n",
    "hash_string = timestamp + private_key + public_key\n",
    "hash_md5 = hashlib.md5(hash_string.encode()).hexdigest()"
   ]
  },
  {
   "cell_type": "code",
   "execution_count": 7,
   "id": "85a7509b-0788-4c70-99f3-b4745554299d",
   "metadata": {},
   "outputs": [],
   "source": [
    "#URL de la API\n",
    "base_url = 'http://gateway.marvel.com/v1/public/characters'\n",
    "params = {\n",
    "    'apikey': public_key,\n",
    "    'ts': timestamp,\n",
    "    'hash': hash_md5,\n",
    "    'name': 'Iron Man'\n",
    "}"
   ]
  },
  {
   "cell_type": "code",
   "execution_count": 9,
   "id": "2cd9411e-7d1a-4685-8119-3e2d1de34842",
   "metadata": {},
   "outputs": [],
   "source": [
    "#Solicitud GET\n",
    "response = requests.get(base_url, params=params)"
   ]
  },
  {
   "cell_type": "code",
   "execution_count": 11,
   "id": "cb655b04-395f-4399-bcad-a69c3edceb50",
   "metadata": {},
   "outputs": [
    {
     "name": "stdout",
     "output_type": "stream",
     "text": [
      "Nombre:\n",
      "Iron Man\n",
      "Descripción:\n",
      "Wounded, captured and forced to build a weapon by his enemies, billionaire industrialist Tony Stark instead created an advanced suit of armor to save his life and escape captivity. Now with a new outlook on life, Tony uses his money and intelligence to make the world a safer, better place as Iron Man.\n",
      "\n"
     ]
    },
    {
     "data": {
      "text/html": [
       "<img src=\"http://i.annihil.us/u/prod/marvel/i/mg/9/c0/527bb7b37ff55.jpg\" width=\"150\" height=\"150\"/>"
      ],
      "text/plain": [
       "<IPython.core.display.Image object>"
      ]
     },
     "metadata": {},
     "output_type": "display_data"
    }
   ],
   "source": [
    "#Obtenemos el nombre, la descripción y una imagen del superhéroe.\n",
    "if response.status_code == 200:\n",
    "    data = response.json()\n",
    "    for character in data['data']['results']:\n",
    "        print(f\"Nombre:\\n{character['name']}\")\n",
    "        print(f\"Descripción:\\n{character['description']}\\n\")\n",
    "        #Imagen\n",
    "        thumbnail = character['thumbnail']\n",
    "        thumbnail_url = f\"{thumbnail['path']}.{thumbnail['extension']}\"        \n",
    "        display(Image(url=thumbnail_url, width=150, height=150))             \n",
    "else:\n",
    "    print(f\"Error: {response.status_code}\")"
   ]
  },
  {
   "cell_type": "markdown",
   "id": "e8b84c05-679e-4b5b-b30f-32a048b6638a",
   "metadata": {},
   "source": [
    "## Web Scraping\n",
    "Extreure de la web de zendalibros els 30 títols del millors poemes en espanyol,\n",
    "sense exportar els versos només els títols"
   ]
  },
  {
   "cell_type": "code",
   "execution_count": 97,
   "id": "ea93047c-40de-4329-bf48-df503600f671",
   "metadata": {},
   "outputs": [
    {
     "name": "stdout",
     "output_type": "stream",
     "text": [
      "Título de la página: Los 30 mejores poemas en español - Zenda\n",
      "\n",
      "1 Elegía, de Miguel Hernández\n",
      "2 Tú me quieres blanca, de Alfonsina Storni\n",
      "3 Gacela de la terrible presencia, de Federico García Lorca\n",
      "4 Me gusta cuando callas, de Pablo Neruda\n",
      "5 Amor constante más allá de la muerte, de Francisco de Quevedo\n",
      "6 Por una mirada, un mundo, de Gustavo Adolfo Bécquer\n",
      "7 Palabras para Julia, de José Agustín Goytosolo\n",
      "8 Se equivocó la paloma, de Rafael Alberti\n",
      "9 A una rosa, de Góngora\n",
      "10 A un olmo seco, de Antonio Machado\n",
      "11 Ir y quedarse, de Lope de Vega\n",
      "12 Volverán las oscuras golondrinas, de Gustavo Adolfo Bécquer\n",
      "13 Coplas a la muerte de su padre, Jorge Manrique\n",
      "14 La voz a ti debida, de Pedro Salinas\n",
      "15 Nanas de la cebolla, de Miguel Hernández\n",
      "16 Hija del viento, de Alejandra Pizarnik\n",
      "17 La canción del pirata, de José de Espronceda\n",
      "18 Como una sola flor desesperada, de Juana de Ibarbourou\n",
      "19 El remordimiento, de Jorge Luis Borges\n",
      "20 Si el hombre pudiera decir, de Luis Cernuda\n",
      "21 Corazón coraza, de Mario Benedetti\n",
      "22 Campanas de Bastabales, de Rosalía de Castro\n",
      "23 Noche oscura, de San Juan de la Cruz\n",
      "24 Mujer con alcuza, de Dámaso Alonso\n",
      "25 Octubre, de Juan Ramón Jiménez\n",
      "26 Me basta así, de Ángel González\n",
      "27 Quiéreme entera, de Dulce María Loynaz\n",
      "28 Entre ir y quedarse, de Octavio Paz\n",
      "29 La princesa está triste, de Rubén Darío\n",
      "30 Amor empieza por desasosiego, de Sor Juana de la Cruz\n",
      "2.000 EUROS EN PREMIOS\n"
     ]
    }
   ],
   "source": [
    "#URL\n",
    "url = \"https://www.zendalibros.com/los-30-mejores-poemas-en-espanol/\"\n",
    "\n",
    "#Agregar un User-Agent en los headers\n",
    "headers = {\n",
    "    'User-Agent': 'Mozilla/5.0 (Windows NT 10.0; Win64; x64) AppleWebKit/537.36 (KHTML, like Gecko) Chrome/91.0.4472.124 Safari/537.36'\n",
    "}\n",
    "\n",
    "response = requests.get(url, headers=headers)\n",
    "if response.status_code == 200:    \n",
    "    soup = BeautifulSoup(response.content, 'html.parser')\n",
    "\n",
    "    # Extraer el título de la página como ejemplo\n",
    "    title = soup.title.text\n",
    "    print(f'Título de la página: {title}\\n')\n",
    "\n",
    "    # Buscar un elemento específico, por ejemplo un párrafo (p)\n",
    "    paragraphs = soup.find_all('p')  # Encuentra todos los párrafos\n",
    "\n",
    "    # Imprimir el texto de cada párrafo\n",
    "    for p in paragraphs:\n",
    "        if p.text:\n",
    "            if p.text[0].isdigit():\n",
    "                print(p.text)\n",
    "else:\n",
    "    print(f\"Error{response.status_code}\")\n"
   ]
  },
  {
   "cell_type": "code",
   "execution_count": null,
   "id": "c4606516-1bc9-4a18-87cb-2131143e9948",
   "metadata": {},
   "outputs": [],
   "source": []
  }
 ],
 "metadata": {
  "kernelspec": {
   "display_name": "Python 3 (ipykernel)",
   "language": "python",
   "name": "python3"
  },
  "language_info": {
   "codemirror_mode": {
    "name": "ipython",
    "version": 3
   },
   "file_extension": ".py",
   "mimetype": "text/x-python",
   "name": "python",
   "nbconvert_exporter": "python",
   "pygments_lexer": "ipython3",
   "version": "3.9.18"
  }
 },
 "nbformat": 4,
 "nbformat_minor": 5
}
