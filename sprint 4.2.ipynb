{
 "cells": [
  {
   "cell_type": "markdown",
   "id": "b6ff5c94-0829-49df-8eb2-222392b4defc",
   "metadata": {},
   "source": [
    "# Documentació del Procés de Recol·lecció de Dades per al Projecte de ML per augmentar la subscripció de clients a dipòsits bancaris\n",
    "---"
   ]
  },
  {
   "cell_type": "markdown",
   "id": "9646aa50-9802-4376-b503-fe5e71bd33d3",
   "metadata": {},
   "source": [
    "\n",
    "## 1. Fonts\n",
    "---"
   ]
  },
  {
   "cell_type": "markdown",
   "id": "926c3541-e16d-4309-b8d9-aa1192cbf137",
   "metadata": {},
   "source": [
    "\n",
    "### Identificació de Fonts:\n",
    "- Base de dades interna del banc obtingudes al realitzar les trucades\n"
   ]
  },
  {
   "cell_type": "markdown",
   "id": "df02d578-cbf3-4a86-8fba-94999ac9840a",
   "metadata": {},
   "source": [
    "\n",
    "### Descripció de les Fonts:\n",
    "Cada registre del dataset és una trucada realitzada a un possible nou client.Les columnes són:\n",
    "- **age, job, marital, education:** Característiques demogràfiques dels clients.\n",
    "- **balance, housing, loan:** Dades bancàries i productes contractats pels clients\n",
    "- **contact, day of week, month, duration:** Detalls de les trucades telefòniques amb els clients.\n",
    "- **campaign,pdays, previous, poutcome:** Dades relacionades amb campanyes anteriors i l'actual\n",
    "- **deposit:** la variable que indica sí s'ha subscrit o no.\n"
   ]
  },
  {
   "cell_type": "markdown",
   "id": "92ec0622-7c60-4970-9e11-8861cfb9191b",
   "metadata": {},
   "source": [
    "\n",
    "## 2. Mètodes de recol·lecció de dades\n",
    "---\n"
   ]
  },
  {
   "cell_type": "markdown",
   "id": "660fa584-c083-469a-9824-2fba6df4dc78",
   "metadata": {},
   "source": [
    "### Procediments i Eines:\n",
    "Cada venedor recull en un fitxer xls cadascuna de les trucades realitzades. Una vegada finalitzada la tasca de trucades el departament d'IT els pot unir en un sol fitxer csv.\n",
    "\n"
   ]
  },
  {
   "cell_type": "markdown",
   "id": "dc5d3f0b-11a3-4fd7-86ea-23396867ae3b",
   "metadata": {},
   "source": [
    "### Freqüència de Recol·lecció:\n",
    "- Diàriament\n"
   ]
  },
  {
   "cell_type": "markdown",
   "id": "233c67f3-c705-40df-95c1-2cf74cb86e6e",
   "metadata": {},
   "source": [
    "\n",
    "### Scripts de Descàrrega:\n"
   ]
  },
  {
   "cell_type": "code",
   "execution_count": 26,
   "id": "92059e1a-a3ee-46bc-a42b-5af7b3cd5752",
   "metadata": {},
   "outputs": [
    {
     "data": {
      "text/html": [
       "<div>\n",
       "<style scoped>\n",
       "    .dataframe tbody tr th:only-of-type {\n",
       "        vertical-align: middle;\n",
       "    }\n",
       "\n",
       "    .dataframe tbody tr th {\n",
       "        vertical-align: top;\n",
       "    }\n",
       "\n",
       "    .dataframe thead th {\n",
       "        text-align: right;\n",
       "    }\n",
       "</style>\n",
       "<table border=\"1\" class=\"dataframe\">\n",
       "  <thead>\n",
       "    <tr style=\"text-align: right;\">\n",
       "      <th></th>\n",
       "      <th>age</th>\n",
       "      <th>job</th>\n",
       "      <th>marital</th>\n",
       "      <th>education</th>\n",
       "      <th>default</th>\n",
       "      <th>balance</th>\n",
       "      <th>housing</th>\n",
       "      <th>loan</th>\n",
       "      <th>contact</th>\n",
       "      <th>day</th>\n",
       "      <th>month</th>\n",
       "      <th>duration</th>\n",
       "      <th>campaign</th>\n",
       "      <th>pdays</th>\n",
       "      <th>previous</th>\n",
       "      <th>poutcome</th>\n",
       "      <th>y</th>\n",
       "    </tr>\n",
       "  </thead>\n",
       "  <tbody>\n",
       "    <tr>\n",
       "      <th>0</th>\n",
       "      <td>30</td>\n",
       "      <td>unemployed</td>\n",
       "      <td>married</td>\n",
       "      <td>primary</td>\n",
       "      <td>no</td>\n",
       "      <td>1787</td>\n",
       "      <td>no</td>\n",
       "      <td>no</td>\n",
       "      <td>cellular</td>\n",
       "      <td>19</td>\n",
       "      <td>oct</td>\n",
       "      <td>79</td>\n",
       "      <td>1</td>\n",
       "      <td>-1</td>\n",
       "      <td>0</td>\n",
       "      <td>unknown</td>\n",
       "      <td>no</td>\n",
       "    </tr>\n",
       "    <tr>\n",
       "      <th>1</th>\n",
       "      <td>33</td>\n",
       "      <td>services</td>\n",
       "      <td>married</td>\n",
       "      <td>secondary</td>\n",
       "      <td>no</td>\n",
       "      <td>4789</td>\n",
       "      <td>yes</td>\n",
       "      <td>yes</td>\n",
       "      <td>cellular</td>\n",
       "      <td>11</td>\n",
       "      <td>may</td>\n",
       "      <td>220</td>\n",
       "      <td>1</td>\n",
       "      <td>339</td>\n",
       "      <td>4</td>\n",
       "      <td>failure</td>\n",
       "      <td>no</td>\n",
       "    </tr>\n",
       "    <tr>\n",
       "      <th>2</th>\n",
       "      <td>35</td>\n",
       "      <td>management</td>\n",
       "      <td>single</td>\n",
       "      <td>tertiary</td>\n",
       "      <td>no</td>\n",
       "      <td>1350</td>\n",
       "      <td>yes</td>\n",
       "      <td>no</td>\n",
       "      <td>cellular</td>\n",
       "      <td>16</td>\n",
       "      <td>apr</td>\n",
       "      <td>185</td>\n",
       "      <td>1</td>\n",
       "      <td>330</td>\n",
       "      <td>1</td>\n",
       "      <td>failure</td>\n",
       "      <td>no</td>\n",
       "    </tr>\n",
       "    <tr>\n",
       "      <th>3</th>\n",
       "      <td>30</td>\n",
       "      <td>management</td>\n",
       "      <td>married</td>\n",
       "      <td>tertiary</td>\n",
       "      <td>no</td>\n",
       "      <td>1476</td>\n",
       "      <td>yes</td>\n",
       "      <td>yes</td>\n",
       "      <td>unknown</td>\n",
       "      <td>3</td>\n",
       "      <td>jun</td>\n",
       "      <td>199</td>\n",
       "      <td>4</td>\n",
       "      <td>-1</td>\n",
       "      <td>0</td>\n",
       "      <td>unknown</td>\n",
       "      <td>no</td>\n",
       "    </tr>\n",
       "    <tr>\n",
       "      <th>4</th>\n",
       "      <td>59</td>\n",
       "      <td>blue-collar</td>\n",
       "      <td>married</td>\n",
       "      <td>secondary</td>\n",
       "      <td>no</td>\n",
       "      <td>0</td>\n",
       "      <td>yes</td>\n",
       "      <td>no</td>\n",
       "      <td>unknown</td>\n",
       "      <td>5</td>\n",
       "      <td>may</td>\n",
       "      <td>226</td>\n",
       "      <td>1</td>\n",
       "      <td>-1</td>\n",
       "      <td>0</td>\n",
       "      <td>unknown</td>\n",
       "      <td>no</td>\n",
       "    </tr>\n",
       "  </tbody>\n",
       "</table>\n",
       "</div>"
      ],
      "text/plain": [
       "   age          job  marital  education default  balance housing loan  \\\n",
       "0   30   unemployed  married    primary      no     1787      no   no   \n",
       "1   33     services  married  secondary      no     4789     yes  yes   \n",
       "2   35   management   single   tertiary      no     1350     yes   no   \n",
       "3   30   management  married   tertiary      no     1476     yes  yes   \n",
       "4   59  blue-collar  married  secondary      no        0     yes   no   \n",
       "\n",
       "    contact  day month  duration  campaign  pdays  previous poutcome   y  \n",
       "0  cellular   19   oct        79         1     -1         0  unknown  no  \n",
       "1  cellular   11   may       220         1    339         4  failure  no  \n",
       "2  cellular   16   apr       185         1    330         1  failure  no  \n",
       "3   unknown    3   jun       199         4     -1         0  unknown  no  \n",
       "4   unknown    5   may       226         1     -1         0  unknown  no  "
      ]
     },
     "execution_count": 26,
     "metadata": {},
     "output_type": "execute_result"
    }
   ],
   "source": [
    "import pandas as pd\n",
    "df = pd.read_csv(r\"C:\\Users\\franc\\Downloads\\bank+marketing\\bank\\bank.csv\", sep=';')\n",
    "df.head()"
   ]
  },
  {
   "cell_type": "code",
   "execution_count": 28,
   "id": "274d1227-2509-4b80-a32a-d89556c001a7",
   "metadata": {},
   "outputs": [
    {
     "name": "stdout",
     "output_type": "stream",
     "text": [
      "<class 'pandas.core.frame.DataFrame'>\n",
      "RangeIndex: 4521 entries, 0 to 4520\n",
      "Data columns (total 17 columns):\n",
      " #   Column     Non-Null Count  Dtype \n",
      "---  ------     --------------  ----- \n",
      " 0   age        4521 non-null   int64 \n",
      " 1   job        4521 non-null   object\n",
      " 2   marital    4521 non-null   object\n",
      " 3   education  4521 non-null   object\n",
      " 4   default    4521 non-null   object\n",
      " 5   balance    4521 non-null   int64 \n",
      " 6   housing    4521 non-null   object\n",
      " 7   loan       4521 non-null   object\n",
      " 8   contact    4521 non-null   object\n",
      " 9   day        4521 non-null   int64 \n",
      " 10  month      4521 non-null   object\n",
      " 11  duration   4521 non-null   int64 \n",
      " 12  campaign   4521 non-null   int64 \n",
      " 13  pdays      4521 non-null   int64 \n",
      " 14  previous   4521 non-null   int64 \n",
      " 15  poutcome   4521 non-null   object\n",
      " 16  y          4521 non-null   object\n",
      "dtypes: int64(7), object(10)\n",
      "memory usage: 600.6+ KB\n"
     ]
    }
   ],
   "source": [
    "df.info()"
   ]
  },
  {
   "cell_type": "markdown",
   "id": "75dc5551-f7d0-4033-af4b-ed4f0733fca2",
   "metadata": {},
   "source": [
    "## 3. Format i Estructura de les Dades\n",
    "---\n",
    "\n",
    "### Tipus de Dades:\n",
    "- **Numèrics**: Age, balance, day,duration, campaign, pdays, previous\n",
    "- **Categòric**: job, marital, education, default,housing, loan, contact,month,poutcome, y\n",
    "\n",
    "### Format d'Emmagatzematge:\n",
    "- Dades emmagatzemades en fitxer CSV separats en aquest cas per ;\n",
    "\n",
    "## 4. Limitacions de les dades\n",
    "---\n",
    "- Les dades es poden repetir al trucar al mateix client diferents venedors, ha d'existir certa coordinació.\n",
    "- Poden haver errors al transcriure les dades per part del venedors.\n",
    "  \n",
    "\n",
    "## 5. Consideracions sobre Dades Sensibles\n",
    "---\n",
    "\n",
    "### Tipus de Dades Sensibles:\n",
    "- **Informació Personal Identificable (PII)**: No hi han dades que puguin permetre la identificació del client.\n",
    "- **Informació Financera Sensible**: balance, housing, loan\n",
    "- **Dades Comportamentals Sensibles**: No hi han.\n",
    "\n",
    "### Mesures de Protecció:\n",
    "- **Anonimització i Pseudonimització**:\n",
    "  - El dataset no conté dades que permetin reconèixer a l'usuari, potser ja han estat anonamitzades previament a la creació del dataset.\n",
    "  \n",
    "- **Accés Restringit**:\n",
    "  - Podem restringir l'us del dataset només als desenvolupadors del projecte de ML:\n"
   ]
  },
  {
   "cell_type": "code",
   "execution_count": null,
   "id": "56f86412-ea6d-4a29-8237-58c53d3d41bc",
   "metadata": {},
   "outputs": [],
   "source": []
  }
 ],
 "metadata": {
  "kernelspec": {
   "display_name": "Python 3 (ipykernel)",
   "language": "python",
   "name": "python3"
  },
  "language_info": {
   "codemirror_mode": {
    "name": "ipython",
    "version": 3
   },
   "file_extension": ".py",
   "mimetype": "text/x-python",
   "name": "python",
   "nbconvert_exporter": "python",
   "pygments_lexer": "ipython3",
   "version": "3.9.18"
  }
 },
 "nbformat": 4,
 "nbformat_minor": 5
}
